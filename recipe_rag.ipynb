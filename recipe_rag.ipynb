{
 "cells": [
  {
   "cell_type": "code",
   "execution_count": 1,
   "metadata": {},
   "outputs": [
    {
     "name": "stderr",
     "output_type": "stream",
     "text": [
      "/Users/shashank/.pyenv/versions/dev_env/lib/python3.10/site-packages/tqdm/auto.py:21: TqdmWarning: IProgress not found. Please update jupyter and ipywidgets. See https://ipywidgets.readthedocs.io/en/stable/user_install.html\n",
      "  from .autonotebook import tqdm as notebook_tqdm\n"
     ]
    }
   ],
   "source": [
    "from sentence_transformers import SentenceTransformer\n",
    "from transformers import pipeline, AutoModelForCausalLM, AutoTokenizer\n",
    "\n",
    "from rag_utils import create_embeddings, get_faiss_indices, get_rag_query, setup_rag\n",
    "import json\n",
    "\n",
    "\n"
   ]
  },
  {
   "cell_type": "code",
   "execution_count": 2,
   "metadata": {},
   "outputs": [],
   "source": [
    "# get data\n",
    "with open(\"recipes.json\", \"r\") as file:\n",
    "    data = json.load(file)\n",
    "\n",
    "custom_ingredients = data['ingredients']\n",
    "custom_recipes = data['recipes']"
   ]
  },
  {
   "cell_type": "code",
   "execution_count": 3,
   "metadata": {},
   "outputs": [],
   "source": [
    "# load embedding model and setup rag\n",
    "embedding_model = SentenceTransformer('all-MiniLM-L6-v2')\n",
    "custom_data = setup_rag(embedding_model, custom_ingredients, custom_recipes)\n"
   ]
  },
  {
   "cell_type": "code",
   "execution_count": 7,
   "metadata": {},
   "outputs": [
    {
     "name": "stderr",
     "output_type": "stream",
     "text": [
      "Device set to use cpu\n"
     ]
    }
   ],
   "source": [
    "# load LLM and query\n",
    "llm = pipeline(\"text-generation\", model=\"distilgpt2\", device=-1)\n",
    "query = \"What can I cook with onion and chicken?\"\n",
    "rag_query = get_rag_query(embedding_model, query, custom_data, top_k=3)"
   ]
  },
  {
   "cell_type": "code",
   "execution_count": 8,
   "metadata": {},
   "outputs": [
    {
     "name": "stderr",
     "output_type": "stream",
     "text": [
      "Truncation was not explicitly activated but `max_length` is provided a specific value, please use `truncation=True` to explicitly truncate examples to max length. Defaulting to 'longest_first' truncation strategy. If you encode pairs of sequences (GLUE-style) with the tokenizer you can select this strategy more precisely by providing a specific strategy to `truncation`.\n",
      "Setting `pad_token_id` to `eos_token_id`:50256 for open-end generation.\n"
     ]
    },
    {
     "name": "stdout",
     "output_type": "stream",
     "text": [
      "Response: \n",
      "Add the beet and garlic salad until golden brown. Add the cabbage and salt and to the top with a medium flame. Add the lemon juice and chillies and sauté on a medium flame for a few seconds, while stirring occasionally. Add the coriander and sauce to all the ingredients on the top with a medium flame.Add the vegetables and sauté on a medium flame for a few moments. Serve the beet and garlic salad immediately.And in a pinch, add the celery and chilies in the mustard.\n",
      "Pour the celery and chilies in the mustard.Add the kale chips in the pita-chili and the vegetables in the curry. Add the spinach and chilies in the poja-chili and the vegetables in the curry.Add the spinach and chilies in the poja-chili and the vegetables in the curry.Add the spinach and chilies in the poja-chili and the vegetables in the curry.Add the spinach and chilies in the poja-chili and the vegetables in the curry.Add the spinach and chilies in the poja-chili and the vegetables in the curry.Add the spinach and chilies in the poja-chili and the vegetables in the curry.Add the spinach and chilies in the poja-chili and the vegetables in the curry.Add the spinach and chilies in the poja-chili and the vegetables in the curry.Add the spinach and pita-chili and the veggies in the curry.Add the spinach and chilies in the poja-chili and the vegetables in the curry.Add the spinach and chils in the poja-chili and the vegetables in the curry.Add the spinach and chilies in the poja-chili and the vegetables in the curry.Add the spinach and chils in the poja-chili and the vegetables in the curry.Add the spinach and chilies in the poja-chili and the vegetables in the curry.Add the spinach and chilies in the poja-chili and the vegetables in the curry.Add the spinach and chilies in the poja-chili and the vegetables in the curry.Add the spinach and chilies in the poja-chili and the vegetables in the poja\n"
     ]
    }
   ],
   "source": [
    "# increasing max_length might give error depends on which llm is used\n",
    "response = llm(rag_query, max_length=1024, num_return_sequences=1) \n",
    "\n",
    "print(f\"Response: {response[0]['generated_text'].split('Method:')[1]}\")"
   ]
  },
  {
   "cell_type": "code",
   "execution_count": null,
   "metadata": {},
   "outputs": [],
   "source": []
  }
 ],
 "metadata": {
  "kernelspec": {
   "display_name": "dev_env",
   "language": "python",
   "name": "python3"
  },
  "language_info": {
   "codemirror_mode": {
    "name": "ipython",
    "version": 3
   },
   "file_extension": ".py",
   "mimetype": "text/x-python",
   "name": "python",
   "nbconvert_exporter": "python",
   "pygments_lexer": "ipython3",
   "version": "3.10.10"
  }
 },
 "nbformat": 4,
 "nbformat_minor": 2
}
