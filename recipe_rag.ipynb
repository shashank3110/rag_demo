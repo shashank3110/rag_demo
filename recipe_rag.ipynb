{
 "cells": [
  {
   "cell_type": "code",
   "execution_count": null,
   "metadata": {},
   "outputs": [],
   "source": [
    "from sentence_transformers import SentenceTransformer\n",
    "from transformers import pipeline, AutoModelForCausalLM, AutoTokenizer\n",
    "\n",
    "from rag_utils import create_embeddings, get_faiss_indices, get_rag_query, setup_rag\n",
    "import json\n",
    "\n",
    "\n"
   ]
  },
  {
   "cell_type": "code",
   "execution_count": null,
   "metadata": {},
   "outputs": [],
   "source": [
    "# get data\n",
    "with open(\"recipes.json\", \"r\") as file:\n",
    "    data = json.load(file)\n",
    "\n",
    "custom_ingredients = data['ingredients']\n",
    "custom_recipes = data['recipes']"
   ]
  },
  {
   "cell_type": "code",
   "execution_count": null,
   "metadata": {},
   "outputs": [],
   "source": [
    "# load embedding model and setup rag\n",
    "embedding_model = SentenceTransformer('all-MiniLM-L6-v2')\n",
    "custom_data = setup_rag(embedding_model, custom_ingredients, custom_recipes)\n"
   ]
  },
  {
   "cell_type": "code",
   "execution_count": null,
   "metadata": {},
   "outputs": [],
   "source": [
    "# load LLM and query\n",
    "llm = pipeline(\"text-generation\", model=\"distilgpt2\", device=-1)\n",
    "query = \"What can I cook with tomatoes and chicken?\"\n",
    "rag_query = get_rag_query(embedding_model, query, custom_data, top_k=3)"
   ]
  },
  {
   "cell_type": "code",
   "execution_count": null,
   "metadata": {},
   "outputs": [],
   "source": [
    "# increasing max_length might give error depends on which llm is used\n",
    "response = llm(rag_query, max_length=1024, num_return_sequences=1) \n",
    "\n",
    "print(f\"Response: {response[0]['generated_text'].split('Method:')[1]}\")"
   ]
  }
 ],
 "metadata": {
  "language_info": {
   "name": "python"
  }
 },
 "nbformat": 4,
 "nbformat_minor": 2
}
